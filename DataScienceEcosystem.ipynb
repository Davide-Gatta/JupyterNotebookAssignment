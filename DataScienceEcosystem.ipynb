{
 "cells": [
  {
   "cell_type": "markdown",
   "id": "cd36eb2a",
   "metadata": {},
   "source": [
    "# Data Science Tools and Ecosystem"
   ]
  },
  {
   "cell_type": "markdown",
   "id": "2d58a2a0",
   "metadata": {},
   "source": [
    "In this notebook, Data Science Tools and Ecosystem are summarized."
   ]
  },
  {
   "cell_type": "markdown",
   "id": "5ee5fbc5",
   "metadata": {},
   "source": [
    "**Objectives:**\n",
    "* List popular languages, libraries and tools for Data Science;\n",
    "* Execute basic python codes;\n",
    "* Verify instructions for markdowns\n",
    "* Compile a complete Jupiter Workbook, including codes and markdowns"
   ]
  },
  {
   "cell_type": "markdown",
   "id": "11124182",
   "metadata": {},
   "source": [
    "Some of the popular languages that Data Scientists use are:\n",
    "1. Python\n",
    "2. R\n",
    "3. SQL\n",
    "4. Java\n",
    "5. Scala"
   ]
  },
  {
   "cell_type": "markdown",
   "id": "fbe8ecd3",
   "metadata": {},
   "source": [
    "Some of the commonly used libraries used by Data Scientists include:\n",
    "1. NumPy\n",
    "2. Matplotlib\n",
    "3. Keras\n",
    "4. TensorFlow"
   ]
  },
  {
   "cell_type": "markdown",
   "id": "6704228d",
   "metadata": {},
   "source": [
    "|Data Science Tools|\n",
    "|---|\n",
    "|MySQL|\n",
    "|MongoDB|\n",
    "|Hadoop File System|\n"
   ]
  },
  {
   "cell_type": "markdown",
   "id": "62fd6dbf",
   "metadata": {},
   "source": [
    "### Below are a few examples of evaluating arithmetic expressions in Python"
   ]
  },
  {
   "cell_type": "code",
   "execution_count": 1,
   "id": "66f5e828",
   "metadata": {},
   "outputs": [
    {
     "data": {
      "text/plain": [
       "17"
      ]
     },
     "execution_count": 1,
     "metadata": {},
     "output_type": "execute_result"
    }
   ],
   "source": [
    "#This is an example of simple arithmetic expression which multiplies and then adds\n",
    "3*4+5 \n",
    "#the exercise says to put 3*4 in brackets, but it's useless since multiplication has priority on sum"
   ]
  },
  {
   "cell_type": "code",
   "execution_count": 3,
   "id": "85411bbc",
   "metadata": {},
   "outputs": [
    {
     "name": "stdout",
     "output_type": "stream",
     "text": [
      "3 : 20\n"
     ]
    }
   ],
   "source": [
    "#This should convert minutes to hours by dividing by 60. \n",
    "#Let's add some difficulty: we want to convert minutes to the format Hours:Minutes\n",
    "In_Minutes=200\n",
    "Out_Hours=int(In_Minutes/60) #this takes only the complete hours\n",
    "Out_Minutes=In_Minutes%60 #the modulus operator gives the remaining minutes\n",
    "\n",
    "print(Out_Hours,\":\",Out_Minutes)"
   ]
  },
  {
   "cell_type": "markdown",
   "id": "07eba11d",
   "metadata": {},
   "source": [
    "## Author\n",
    "Davide Maria Gatta"
   ]
  }
 ],
 "metadata": {
  "kernelspec": {
   "display_name": "Python 3 (ipykernel)",
   "language": "python",
   "name": "python3"
  },
  "language_info": {
   "codemirror_mode": {
    "name": "ipython",
    "version": 3
   },
   "file_extension": ".py",
   "mimetype": "text/x-python",
   "name": "python",
   "nbconvert_exporter": "python",
   "pygments_lexer": "ipython3",
   "version": "3.9.13"
  }
 },
 "nbformat": 4,
 "nbformat_minor": 5
}
